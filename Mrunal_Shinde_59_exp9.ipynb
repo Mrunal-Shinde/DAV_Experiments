{
  "nbformat": 4,
  "nbformat_minor": 0,
  "metadata": {
    "colab": {
      "provenance": []
    },
    "kernelspec": {
      "name": "python3",
      "display_name": "Python 3"
    },
    "language_info": {
      "name": "python"
    }
  },
  "cells": [
    {
      "cell_type": "markdown",
      "source": [
        "[Link to colab](https://colab.research.google.com/drive/1pu6LRlDrAOeuHC2QJyqPMPYgZD-i3C1x#scrollTo=RsCtGAoUwZKa)"
      ],
      "metadata": {
        "id": "RsCtGAoUwZKa"
      }
    },
    {
      "cell_type": "markdown",
      "source": [
        "## **Aim:** Create a World Map with d3.js"
      ],
      "metadata": {
        "id": "0i6stWwsoCM7"
      }
    },
    {
      "cell_type": "markdown",
      "source": [
        "1. **d3.select('#content canvas').node().getContext('2d')**:\n",
        "   - `d3.select('#content canvas'): This selects the `<canvas>` element with the ID \"content\".\n",
        "   - `.node()`: This method returns the DOM node associated with the selected element.\n",
        "   - `.getContext('2d')`: This method gets the 2D rendering context of the canvas, which allows drawing shapes, text, and images on the canvas.\n",
        "\n",
        "2. **d3.geoMercator().scale(120).translate([400, 350])**:\n",
        "   - `d3.geoMercator()`: This creates a new Mercator projection.\n",
        "   - `.scale(120)`: This sets the scale of the projection to 120. The scale determines the size of the map relative to the canvas.\n",
        "   - `.translate([400, 350])`: This sets the translation (or center) of the projection. It determines where the center of the map will be positioned on the canvas.\n",
        "\n",
        "3. **d3.geoPath().projection(projection).context(context)**:\n",
        "   - `d3.geoPath()`: This creates a new geographic path generator.\n",
        "   - `.projection(projection)`: This sets the projection used by the path generator. It specifies how geographic coordinates are translated into screen coordinates.\n",
        "   - `.context(context)`: This sets the rendering context for the path generator. In this case, it's the 2D rendering context of the canvas.\n",
        "\n",
        "4. **d3.json(url).then(function(json) { ... })**:\n",
        "   - `d3.json(url)`: This asynchronously loads JSON data from the specified URL.\n",
        "   - `.then(function(json) { ... })`: This method is called when the JSON data is successfully loaded. The loaded JSON data is passed to the provided callback function (`function(json) { ... }`) as an argument.\n",
        "\n",
        "5. **context.lineWidth = 0.7**: This sets the width of the lines that will be drawn on the canvas.\n",
        "\n",
        "6. **context.strokeStyle = '#333'**: This sets the color of the lines that will be drawn on the canvas.\n",
        "\n",
        "7. **context.beginPath()**: This begins a new path on the canvas. All subsequent drawing commands will be applied to this path until `context.stroke()` is called.\n",
        "\n",
        "8. **geoGenerator({ type: 'FeatureCollection', features: geojson.features })**: This generates the path for the features in the GeoJSON data using the geographic path generator (`geoGenerator`). The GeoJSON data is passed as an argument.\n"
      ],
      "metadata": {
        "id": "zjUv5mh7uPiF"
      }
    },
    {
      "cell_type": "code",
      "execution_count": null,
      "metadata": {
        "colab": {
          "base_uri": "https://localhost:8080/",
          "height": 569
        },
        "id": "DR5b1zGNn-BL",
        "outputId": "d4e74db9-f762-44ee-85fd-025849f8a842"
      },
      "outputs": [
        {
          "output_type": "display_data",
          "data": {
            "text/plain": [
              "<IPython.core.display.HTML object>"
            ],
            "text/html": [
              "<!DOCTYPE html>\n",
              "<html lang=\"en\">\n",
              "<head>\n",
              "    <meta charset=\"UTF-8\">\n",
              "    <meta name=\"viewport\" content=\"width=device-width, initial-scale=1.0\">\n",
              "    <title>Interactive World Map</title>\n",
              "    <script src=\"https://d3js.org/d3.v5.min.js\"></script>\n",
              "</head>\n",
              "<body>\n",
              "\n",
              "<h2>Interactive World Map in D3</h2>\n",
              "<div id=\"content\">\n",
              "    <svg width=\"960\" height=\"500\"></svg>\n",
              "\n",
              "<script>\n",
              "    let geojson = {};\n",
              "    let svg = d3.select('#content svg');\n",
              "\n",
              "    let projection = d3.geoMercator().scale(120).translate([480, 250]);\n",
              "\n",
              "    let geoGenerator = d3.geoPath()\n",
              "        .projection(projection);\n",
              "\n",
              "    function update() {\n",
              "        svg.selectAll('path')\n",
              "            .data(geojson.features)\n",
              "            .enter()\n",
              "            .append('path')\n",
              "            .attr('d', geoGenerator)\n",
              "            .style('stroke', '#333')\n",
              "            .style('stroke-width', 0.7)\n",
              "            .style('fill', '#ccc')\n",
              "            .on('mouseover', function(d) {\n",
              "                d3.select(this).style('fill', 'green');\n",
              "            })\n",
              "            .on('mouseout', function(d) {\n",
              "                d3.select(this).style('fill', '#ccc');\n",
              "            })\n",
              "    }\n",
              "\n",
              "    d3.json('https://gist.githubusercontent.com/d3indepth/f28e1c3a99ea6d84986f35ac8646fac7/raw/c58cede8dab4673c91a3db702d50f7447b373d98/ne_110m_land.json')\n",
              "        .then(function (json) {\n",
              "            geojson = json;\n",
              "            update();\n",
              "        });\n",
              "\n",
              "    // Adding zoom functionality\n",
              "    let zoom = d3.zoom()\n",
              "        .scaleExtent([1, 8])\n",
              "        .on('zoom', function() {\n",
              "            svg.selectAll('path')\n",
              "                .attr('transform', d3.event.transform);\n",
              "        });\n",
              "\n",
              "    svg.call(zoom);\n",
              "\n",
              "</script>\n",
              "</body>\n",
              "</html>\n"
            ]
          },
          "metadata": {}
        }
      ],
      "source": [
        "%%html\n",
        "<!DOCTYPE html>\n",
        "<html lang=\"en\">\n",
        "<head>\n",
        "    <meta charset=\"UTF-8\">\n",
        "    <meta name=\"viewport\" content=\"width=device-width, initial-scale=1.0\">\n",
        "    <title>Interactive World Map</title>\n",
        "    <script src=\"https://d3js.org/d3.v5.min.js\"></script>\n",
        "</head>\n",
        "<body>\n",
        "\n",
        "<h2>Interactive World Map in D3</h2>\n",
        "<div id=\"content\">\n",
        "    <svg width=\"960\" height=\"500\"></svg>\n",
        "\n",
        "<script>\n",
        "    let geojson = {};\n",
        "    let svg = d3.select('#content svg');\n",
        "\n",
        "    let projection = d3.geoMercator().scale(120).translate([480, 250]);\n",
        "\n",
        "    let geoGenerator = d3.geoPath()\n",
        "        .projection(projection);\n",
        "\n",
        "    function update() {\n",
        "        svg.selectAll('path')\n",
        "            .data(geojson.features)\n",
        "            .enter()\n",
        "            .append('path')\n",
        "            .attr('d', geoGenerator)\n",
        "            .style('stroke', '#333')\n",
        "            .style('stroke-width', 0.7)\n",
        "            .style('fill', '#ccc')\n",
        "            .on('mouseover', function(d) {\n",
        "                d3.select(this).style('fill', 'green');\n",
        "            })\n",
        "            .on('mouseout', function(d) {\n",
        "                d3.select(this).style('fill', '#ccc');\n",
        "            })\n",
        "    }\n",
        "\n",
        "    d3.json('https://gist.githubusercontent.com/d3indepth/f28e1c3a99ea6d84986f35ac8646fac7/raw/c58cede8dab4673c91a3db702d50f7447b373d98/ne_110m_land.json')\n",
        "        .then(function (json) {\n",
        "            geojson = json;\n",
        "            update();\n",
        "        });\n",
        "\n",
        "    // Adding zoom functionality\n",
        "    let zoom = d3.zoom()\n",
        "        .scaleExtent([1, 8])\n",
        "        .on('zoom', function() {\n",
        "            svg.selectAll('path')\n",
        "                .attr('transform', d3.event.transform);\n",
        "        });\n",
        "\n",
        "    svg.call(zoom);\n",
        "\n",
        "</script>\n",
        "</body>\n",
        "</html>\n"
      ]
    },
    {
      "cell_type": "markdown",
      "source": [
        "## **Conclusion:** Successfully implemented World Map in D3.js"
      ],
      "metadata": {
        "id": "hORZw_vAulPl"
      }
    }
  ]
}