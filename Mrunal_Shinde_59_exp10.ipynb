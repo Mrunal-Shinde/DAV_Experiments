{
  "nbformat": 4,
  "nbformat_minor": 0,
  "metadata": {
    "colab": {
      "provenance": []
    },
    "kernelspec": {
      "name": "python3",
      "display_name": "Python 3"
    },
    "language_info": {
      "name": "python"
    }
  },
  "cells": [
    {
      "cell_type": "markdown",
      "source": [
        "## **Aim:** Event Handling with D3.js"
      ],
      "metadata": {
        "id": "Mp-wwAXNbkrh"
      }
    },
    {
      "cell_type": "markdown",
      "source": [
        "\n",
        "\n",
        "*   **d3.select():**  The d3.select() function is used to select elements in the DOM (Document Object Model) based on CSS selectors.\n",
        "It returns a selection object that represents the selected elements.\n",
        "In the code provided, d3.select(\"rect\") selects the <rect> element within the SVG.\n",
        "\n",
        "*   **d3.select():**The d3.select() function is used to select elements in the DOM (Document Object Model) based on CSS selectors.\n",
        "It returns a selection object that represents the selected elements.\n",
        "In the code provided, d3.select(\"rect\") selects the <rect> element within the SVG.\n",
        "\n",
        "*   **selection.on(eventType, listener):**The selection.on() method attaches an event listener to the selected elements.\n",
        "It takes two arguments:\n",
        "eventType: The type of event to listen for (e.g., \"click\", \"mouseover\", \"mouseout\").\n",
        "\n",
        "*   **listener:** The function to be executed when the event occurs.\n",
        "In the code provided, square.on(\"click\", function() { ... }) adds a click event listener to the selected <rect> element.\n",
        "\n",
        "*   **transition()**:The transition() method creates a transition for the selected elements, allowing for smooth animations when changing attributes or styles.Transitions are defined by specifying changes to attributes or styles over a specified duration.\n",
        "In the code provided, .transition() is used to create a transition for the <rect> element.\n",
        "\n",
        "*   **duration(milliseconds):**The duration() method specifies the duration of the transition in milliseconds.\n",
        "It sets the time over which the transition will occur.\n",
        "In the code provided, .duration(1000) specifies that the transition will last for 1000 milliseconds (1 second).\n",
        "\n",
        "\n",
        "\n",
        "\n",
        "\n"
      ],
      "metadata": {
        "id": "0cqofGNHdZp-"
      }
    },
    {
      "cell_type": "code",
      "execution_count": 11,
      "metadata": {
        "colab": {
          "base_uri": "https://localhost:8080/",
          "height": 268
        },
        "id": "yQiO_vy6h7Pk",
        "outputId": "b3d88523-1928-4fd6-c538-16b561e7c257"
      },
      "outputs": [
        {
          "output_type": "display_data",
          "data": {
            "text/plain": [
              "<IPython.core.display.HTML object>"
            ],
            "text/html": [
              "<!DOCTYPE html>\n",
              "<html lang=\"en\">\n",
              "<head>\n",
              "  <meta charset=\"UTF-8\">\n",
              "  <meta name=\"viewport\" content=\"width=device-width, initial-scale=1.0\">\n",
              "  <title>D3.js Event Handling</title>\n",
              "  <script src=\"https://d3js.org/d3.v5.min.js\"></script>\n",
              "</head>\n",
              "<body>\n",
              "  <h2>Click the square</h2>\n",
              "  <svg width=\"200\" height=\"200\">\n",
              "    <rect width=\"100\" height=\"100\" x=\"50\" y=\"50\" fill=\"black\"></rect>\n",
              "  </svg>\n",
              "\n",
              "  <script>\n",
              "    const square = d3.select(\"rect\");\n",
              "    let colorState = 0; \n",
              "    square.on(\"click\", function() {\n",
              "      colorState = 1 - colorState; \n",
              "      \n",
              "      const fillColor = colorState === 0 ? \"black\" : \"green\";\n",
              "      \n",
              "      d3.select(this)\n",
              "        .transition()\n",
              "        .duration(1000)\n",
              "        .attr(\"fill\", fillColor);\n",
              "    });\n",
              "  </script>\n",
              "</body>\n",
              "</html>\n",
              "\n"
            ]
          },
          "metadata": {}
        }
      ],
      "source": [
        "%%html\n",
        "<!DOCTYPE html>\n",
        "<html lang=\"en\">\n",
        "<head>\n",
        "  <meta charset=\"UTF-8\">\n",
        "  <meta name=\"viewport\" content=\"width=device-width, initial-scale=1.0\">\n",
        "  <title>D3.js Event Handling</title>\n",
        "  <script src=\"https://d3js.org/d3.v5.min.js\"></script>\n",
        "</head>\n",
        "<body>\n",
        "  <h2>Click the square</h2>\n",
        "  <svg width=\"200\" height=\"200\">\n",
        "    <rect width=\"100\" height=\"100\" x=\"50\" y=\"50\" fill=\"black\"></rect>\n",
        "  </svg>\n",
        "\n",
        "  <script>\n",
        "    const square = d3.select(\"rect\");\n",
        "    let colorState = 0;\n",
        "    square.on(\"click\", function() {\n",
        "      colorState = 1 - colorState;\n",
        "\n",
        "      const fillColor = colorState === 0 ? \"black\" : \"green\";\n",
        "\n",
        "      d3.select(this)\n",
        "        .transition()\n",
        "        .duration(1000)\n",
        "        .attr(\"fill\", fillColor);\n",
        "    });\n",
        "  </script>\n",
        "</body>\n",
        "</html>\n",
        "\n"
      ]
    },
    {
      "cell_type": "markdown",
      "source": [
        "*   **d3.select():**This function is used to select an element in the DOM (Document Object Model) using a CSS selector.\n",
        "It returns a selection representing the selected DOM element.\n",
        "\n",
        "*   **d3.drag():**This function creates a new drag behavior. Drag behaviors in D3.js enable the dragging of elements in SVG (Scalable Vector Graphics) based on user interactions such as mouse movements.\n",
        "It returns a drag behavior object that can be configured with event listeners for different stages of the drag interaction.\n",
        "\n",
        "*   **.on(\"start\", function()):**This method attaches an event listener for the \"start\" event of the drag interaction.\n",
        "In the provided code, it's used to set up actions to be performed when the drag interaction starts, such as changing the color of the dragged element.\n",
        "\n",
        "*   **.on(\"drag\", function()):**This method attaches an event listener for the \"drag\" event of the drag interaction.\n",
        "It's called continuously during the drag interaction and is typically used to update the position or appearance of the dragged element based on the user's movements.\n",
        "\n",
        "* **.on(\"end\", function()):**This method attaches an event listener for the \"end\" event of the drag interaction.It's triggered when the drag interaction ends (e.g., when the user releases the mouse button after dragging).In the provided code, it's used to perform actions such as reverting changes made during the drag interaction.\n",
        "\n",
        "*   **Math.round():**This is a built-in JavaScript function that returns the value of a number rounded to the nearest integer.\n",
        "In the code, it's used to snap the position of the dragged element to grid lines, making its movement more controlled.\n",
        "\n",
        "*   **Transition:**The .transition() method in D3.js creates a transition for selected elements, allowing smooth animation between different states of those elements.Transitions are typically configured with properties like duration, easing functions, and attribute changes to create visually appealing effects.\n",
        "\n",
        "\n",
        "\n",
        "\n"
      ],
      "metadata": {
        "id": "cPM7UgetlG0d"
      }
    },
    {
      "cell_type": "code",
      "source": [
        "%%html\n",
        "<!DOCTYPE html>\n",
        "<html lang=\"en\">\n",
        "<head>\n",
        "  <meta charset=\"UTF-8\">\n",
        "  <meta name=\"viewport\" content=\"width=device-width, initial-scale=1.0\">\n",
        "  <title>D3.js Dragging Event with Square</title>\n",
        "  <script src=\"https://d3js.org/d3.v5.min.js\"></script>\n",
        "</head>\n",
        "<body>\n",
        "  <h2>Drag the square</h2>\n",
        "  <svg width=\"600\" height=\"600\" class=\"container\">\n",
        "    <rect x=\"50\" y=\"50\" width=\"100\" height=\"100\" fill=\"steelblue\"></rect>\n",
        "  </svg>\n",
        "  <style>\n",
        "  .container {\n",
        "    border: 2px solid red;\n",
        "  }\n",
        "  </style>\n",
        "  <script>\n",
        "    const svg = d3.select(\"svg\");\n",
        "    const container = svg.select(\".container\");\n",
        "\n",
        "    // Define grid properties\n",
        "    const gridSize = 50;\n",
        "    const snapToGrid = true;\n",
        "\n",
        "    const dragHandler = d3.drag()\n",
        "      .on(\"start\", function() {\n",
        "        d3.select(this)\n",
        "          .attr(\"fill\", \"orange\");\n",
        "      })\n",
        "      .on(\"drag\", function() {\n",
        "        let newX = d3.event.x;\n",
        "        let newY = d3.event.y;\n",
        "\n",
        "        if (snapToGrid) {\n",
        "          newX = Math.round(newX / gridSize) * gridSize;\n",
        "          newY = Math.round(newY / gridSize) * gridSize;\n",
        "        }\n",
        "\n",
        "        d3.select(this)\n",
        "          .attr(\"x\", newX)\n",
        "          .attr(\"y\", newY);\n",
        "      })\n",
        "      .on(\"end\", function() {\n",
        "        d3.select(this)\n",
        "          .attr(\"fill\", \"steelblue\");\n",
        "      });\n",
        "\n",
        "    svg.select(\"rect\")\n",
        "      .call(dragHandler);\n",
        "  </script>\n",
        "</body>\n",
        "</html>\n"
      ],
      "metadata": {
        "colab": {
          "base_uri": "https://localhost:8080/",
          "height": 672
        },
        "id": "Zh137FujjthZ",
        "outputId": "f1c45fb9-f15d-44f4-cf25-f7eed1dcca4e"
      },
      "execution_count": 7,
      "outputs": [
        {
          "output_type": "display_data",
          "data": {
            "text/plain": [
              "<IPython.core.display.HTML object>"
            ],
            "text/html": [
              "<!DOCTYPE html>\n",
              "<html lang=\"en\">\n",
              "<head>\n",
              "  <meta charset=\"UTF-8\">\n",
              "  <meta name=\"viewport\" content=\"width=device-width, initial-scale=1.0\">\n",
              "  <title>D3.js Dragging Event with Square</title>\n",
              "  <script src=\"https://d3js.org/d3.v5.min.js\"></script>\n",
              "</head>\n",
              "<body>\n",
              "  <h2>Drag the square</h2>\n",
              "  <svg width=\"600\" height=\"600\" class=\"container\">\n",
              "    <rect x=\"50\" y=\"50\" width=\"100\" height=\"100\" fill=\"steelblue\"></rect>\n",
              "  </svg>\n",
              "  <style>\n",
              "  .container {\n",
              "    border: 2px solid red;\n",
              "  }\n",
              "  </style>\n",
              "  <script>\n",
              "    const svg = d3.select(\"svg\");\n",
              "    const container = svg.select(\".container\");\n",
              "\n",
              "    // Define grid properties\n",
              "    const gridSize = 50;\n",
              "    const snapToGrid = true;\n",
              "\n",
              "    const dragHandler = d3.drag()\n",
              "      .on(\"start\", function() {\n",
              "        d3.select(this)\n",
              "          .attr(\"fill\", \"orange\");\n",
              "      })\n",
              "      .on(\"drag\", function() {\n",
              "        let newX = d3.event.x;\n",
              "        let newY = d3.event.y;\n",
              "\n",
              "        if (snapToGrid) {\n",
              "          newX = Math.round(newX / gridSize) * gridSize;\n",
              "          newY = Math.round(newY / gridSize) * gridSize;\n",
              "        }\n",
              "\n",
              "        d3.select(this)\n",
              "          .attr(\"x\", newX)\n",
              "          .attr(\"y\", newY);\n",
              "      })\n",
              "      .on(\"end\", function() {\n",
              "        d3.select(this)\n",
              "          .attr(\"fill\", \"steelblue\");\n",
              "      });\n",
              "\n",
              "    svg.select(\"rect\")\n",
              "      .call(dragHandler);\n",
              "  </script>\n",
              "</body>\n",
              "</html>\n"
            ]
          },
          "metadata": {}
        }
      ]
    },
    {
      "cell_type": "markdown",
      "source": [
        "## **Conclusion:** Sucessfully handled events in d3.js"
      ],
      "metadata": {
        "id": "Mci5pahLlzYO"
      }
    }
  ]
}