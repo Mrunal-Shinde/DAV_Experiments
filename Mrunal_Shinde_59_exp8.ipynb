{
  "nbformat": 4,
  "nbformat_minor": 0,
  "metadata": {
    "colab": {
      "provenance": []
    },
    "kernelspec": {
      "name": "python3",
      "display_name": "Python 3"
    },
    "language_info": {
      "name": "python"
    }
  },
  "cells": [
    {
      "cell_type": "markdown",
      "source": [
        "[Link to colab](https://colab.research.google.com/drive/1l0oPWwTbyqNV4thNjYF58PVU2913TcHG#scrollTo=kAugTagDwPC1)"
      ],
      "metadata": {
        "id": "kAugTagDwPC1"
      }
    },
    {
      "cell_type": "markdown",
      "source": [
        "## **Aim:** Set Up a D3.js Environment, Select Elements in D3, Modify Elements in D3,Data Loading in D3"
      ],
      "metadata": {
        "id": "6wrxUKzgndz2"
      }
    },
    {
      "cell_type": "markdown",
      "source": [
        "## **D3.js**\n",
        "D3 stands for Data-Driven Documents.D3.js is a JavaScript library for manipulating documents based on data.D3.js is a dynamic, interactive, online data visualizations framework used in a large number of websites.\n",
        "D3.js is a JavaScript library used to create interactive visualizations in the browser.The D3.js library allows us to manipulate elements of a webpage in the context of a data set.These elements can be HTML, SVG, or Canvas elements and can be introduced, removed, or edited according to the contents of the data set.It is a library for manipulating the DOM objects. D3.js can be a valuable aid in data exploration, it gives you control over your data's representation and lets you add interactivity.\n",
        "\n",
        "Features:\n",
        "\n",
        "Extremely flexible.\n",
        "\n",
        "\n",
        "1.   Easy to use and fast.\n",
        "2.   Supports large datasets.\n",
        "3.   Declarative programming.\n",
        "4.   Code reusability.\n",
        "5.   Has wide variety of curve generating functions.\n",
        "6.   Associates data to an element or group of elements in the html page.\n"
      ],
      "metadata": {
        "id": "-kx9h2BGsFO6"
      }
    },
    {
      "cell_type": "markdown",
      "source": [
        "The select() method - selects the HTML element based on CSS Selectors like tag, class or id."
      ],
      "metadata": {
        "id": "HRemXS-ZSCwI"
      }
    },
    {
      "cell_type": "code",
      "execution_count": null,
      "metadata": {
        "colab": {
          "base_uri": "https://localhost:8080/",
          "height": 34
        },
        "id": "i8kqtf0pPQc-",
        "outputId": "e44dd0ac-642a-4502-d8a3-c5899d2d23ca"
      },
      "outputs": [
        {
          "output_type": "display_data",
          "data": {
            "text/plain": [
              "<IPython.core.display.HTML object>"
            ],
            "text/html": [
              "<!DOCTYPE html>\n",
              "<html>\n",
              "   <head>\n",
              "      <script type = \"text/javascript\" src = \"https://d3js.org/d3.v4.min.js\"></script>\n",
              "   </head>\n",
              "\n",
              "   <body>\n",
              "      <div>\n",
              "         Hello World!    \n",
              "      </div>\n",
              "      \n",
              "      <script>\n",
              "         alert(d3.select(\"div\").text());\n",
              "      </script>\n",
              "   </body>\n",
              "</html>\n",
              "\n",
              "\n"
            ]
          },
          "metadata": {}
        }
      ],
      "source": [
        "%%html\n",
        "<!DOCTYPE html>\n",
        "<html>\n",
        "   <head>\n",
        "      <script type = \"text/javascript\" src = \"https://d3js.org/d3.v4.min.js\"></script>\n",
        "   </head>\n",
        "\n",
        "   <body>\n",
        "      <div>\n",
        "         Hello World!\n",
        "      </div>\n",
        "\n",
        "      <script>\n",
        "         alert(d3.select(\"div\").text());\n",
        "      </script>\n",
        "   </body>\n",
        "</html>\n",
        "\n",
        "\n"
      ]
    },
    {
      "cell_type": "code",
      "source": [
        "%%html\n",
        "<!DOCTYPE html>\n",
        "<html>\n",
        "   <head>\n",
        "      <script type = \"text/javascript\" src = \"https://d3js.org/d3.v4.min.js\"></script>\n",
        "   </head>\n",
        "\n",
        "   <body>\n",
        "      <div class = \"myclass\">\n",
        "         Hello World!\n",
        "      </div>\n",
        "\n",
        "      <script>\n",
        "         ad3.select(\".myclass\").text();\n",
        "      </script>\n",
        "   </body>\n",
        "</html>"
      ],
      "metadata": {
        "colab": {
          "base_uri": "https://localhost:8080/",
          "height": 34
        },
        "id": "eaHoxb_PPWej",
        "outputId": "7de09d81-289c-4aed-b628-40acbb1a37ef"
      },
      "execution_count": null,
      "outputs": [
        {
          "output_type": "display_data",
          "data": {
            "text/plain": [
              "<IPython.core.display.HTML object>"
            ],
            "text/html": [
              "<!DOCTYPE html>\n",
              "<html>\n",
              "   <head>\n",
              "      <script type = \"text/javascript\" src = \"https://d3js.org/d3.v4.min.js\"></script>\n",
              "   </head>\n",
              "\n",
              "   <body>\n",
              "      <div class = \"myclass\">\n",
              "         Hello World!\n",
              "      </div>\n",
              "      \n",
              "      <script>\n",
              "         ad3.select(\".myclass\").text();\n",
              "      </script>\n",
              "   </body>\n",
              "</html>\n"
            ]
          },
          "metadata": {}
        }
      ]
    },
    {
      "cell_type": "markdown",
      "source": [
        "The text() Method - used to set the content of the selected / appended elements."
      ],
      "metadata": {
        "id": "Akir17fBSU1R"
      }
    },
    {
      "cell_type": "code",
      "source": [
        "%%html\n",
        "<!DOCTYPE html>\n",
        "<html>\n",
        "   <head>\n",
        "      <script type = \"text/javascript\" src = \"https://d3js.org/d3.v4.min.js\"></script>\n",
        "   </head>\n",
        "\n",
        "   <body>\n",
        "      <div id = \"hello\">\n",
        "         Hello World!\n",
        "      </div>\n",
        "\n",
        "      <script>\n",
        "         d3.select(\"#hello\").text(\"Mrunal\");\n",
        "      </script>\n",
        "   </body>\n",
        "</html>"
      ],
      "metadata": {
        "colab": {
          "base_uri": "https://localhost:8080/",
          "height": 34
        },
        "id": "XysicRN5Pydz",
        "outputId": "ba197e16-c6f4-415a-c669-4096b8d92ab1"
      },
      "execution_count": null,
      "outputs": [
        {
          "output_type": "display_data",
          "data": {
            "text/plain": [
              "<IPython.core.display.HTML object>"
            ],
            "text/html": [
              "<!DOCTYPE html>\n",
              "<html>\n",
              "   <head>\n",
              "      <script type = \"text/javascript\" src = \"https://d3js.org/d3.v4.min.js\"></script>\n",
              "   </head>\n",
              "\n",
              "   <body>\n",
              "      <div id = \"hello\">\n",
              "         Hello World!\n",
              "      </div>\n",
              "      \n",
              "      <script>\n",
              "         d3.select(\"#hello\").text(\"Mrunal\");\n",
              "      </script>\n",
              "   </body>\n",
              "</html>\n"
            ]
          },
          "metadata": {}
        }
      ]
    },
    {
      "cell_type": "markdown",
      "source": [
        "The append() Method - appends a new element as the last child of the element in current selection."
      ],
      "metadata": {
        "id": "FSRZ-ZZRSkjq"
      }
    },
    {
      "cell_type": "code",
      "source": [
        "%%html\n",
        "<!DOCTYPE html>\n",
        "<html>\n",
        "   <head>\n",
        "      <script type = \"text/javascript\" src = \"https://d3js.org/d3.v4.min.js\"></script>\n",
        "   </head>\n",
        "\n",
        "   <body>\n",
        "      <div class = \"myclass\">\n",
        "         Hello World!\n",
        "      </div>\n",
        "\n",
        "      <script>\n",
        "         d3.select(\"div.myclass\").append(\"span\");\n",
        "      </script>\n",
        "   </body>\n",
        "</html>"
      ],
      "metadata": {
        "colab": {
          "base_uri": "https://localhost:8080/",
          "height": 34
        },
        "id": "UVRhIa17P3kD",
        "outputId": "265cb1ff-982e-464f-e634-2f0fff8d81c8"
      },
      "execution_count": null,
      "outputs": [
        {
          "output_type": "display_data",
          "data": {
            "text/plain": [
              "<IPython.core.display.HTML object>"
            ],
            "text/html": [
              "<!DOCTYPE html>\n",
              "<html>\n",
              "   <head>\n",
              "      <script type = \"text/javascript\" src = \"https://d3js.org/d3.v4.min.js\"></script>\n",
              "   </head>\n",
              "\n",
              "   <body>\n",
              "      <div class = \"myclass\">\n",
              "         Hello World!\n",
              "      </div>\n",
              "      \n",
              "      <script>\n",
              "         d3.select(\"div.myclass\").append(\"span\");\n",
              "      </script>\n",
              "   </body>\n",
              "</html>\n"
            ]
          },
          "metadata": {}
        }
      ]
    },
    {
      "cell_type": "code",
      "source": [
        "%%html\n",
        "<!DOCTYPE html>\n",
        "<html>\n",
        "   <head>\n",
        "      <script type = \"text/javascript\" src = \"https://d3js.org/d3.v4.min.js\"></script>\n",
        "   </head>\n",
        "\n",
        "   <body>\n",
        "      <div class = \"myclass\">\n",
        "         Hello World!\n",
        "      </div>\n",
        "\n",
        "      <script>\n",
        "         d3.select(\"div.myclass\").append(\"span\").text(\"from Mrunal\");\n",
        "      </script>\n",
        "   </body>\n",
        "</html>"
      ],
      "metadata": {
        "colab": {
          "base_uri": "https://localhost:8080/",
          "height": 34
        },
        "id": "g6JE16RxP6qz",
        "outputId": "846cbecf-be5c-4544-c44b-33b0ced7c3c6"
      },
      "execution_count": null,
      "outputs": [
        {
          "output_type": "display_data",
          "data": {
            "text/plain": [
              "<IPython.core.display.HTML object>"
            ],
            "text/html": [
              "<!DOCTYPE html>\n",
              "<html>\n",
              "   <head>\n",
              "      <script type = \"text/javascript\" src = \"https://d3js.org/d3.v4.min.js\"></script>\n",
              "   </head>\n",
              "\n",
              "   <body>\n",
              "      <div class = \"myclass\">\n",
              "         Hello World!\n",
              "      </div>\n",
              "      \n",
              "      <script>\n",
              "         d3.select(\"div.myclass\").append(\"span\").text(\"from Mrunal\");\n",
              "      </script>\n",
              "   </body>\n",
              "</html>\n"
            ]
          },
          "metadata": {}
        }
      ]
    },
    {
      "cell_type": "markdown",
      "source": [
        "The html() Method - used to set the html content of the selected / appended elements.\n"
      ],
      "metadata": {
        "id": "LfqdXV2jS-I1"
      }
    },
    {
      "cell_type": "code",
      "source": [
        "%%html\n",
        "<!DOCTYPE html>\n",
        "<html>\n",
        "   <head>\n",
        "      <script type = \"text/javascript\" src = \"https://d3js.org/d3.v4.min.js\"></script>\n",
        "   </head>\n",
        "\n",
        "   <body>\n",
        "      <div class = \"myclass\">\n",
        "         Hello World!\n",
        "      </div>\n",
        "\n",
        "      <script>\n",
        "         d3.select(\".myclass\").html(\"Hello World! <p>from D11AD</p>\");\n",
        "      </script>\n",
        "   </body>\n",
        "</html>"
      ],
      "metadata": {
        "colab": {
          "base_uri": "https://localhost:8080/",
          "height": 64
        },
        "id": "T-rU0AebP7Kq",
        "outputId": "2eea4775-362f-4c6a-876c-b70c542b226a"
      },
      "execution_count": null,
      "outputs": [
        {
          "output_type": "display_data",
          "data": {
            "text/plain": [
              "<IPython.core.display.HTML object>"
            ],
            "text/html": [
              "<!DOCTYPE html>\n",
              "<html>\n",
              "   <head>\n",
              "      <script type = \"text/javascript\" src = \"https://d3js.org/d3.v4.min.js\"></script>\n",
              "   </head>\n",
              "\n",
              "   <body>\n",
              "      <div class = \"myclass\">\n",
              "         Hello World!\n",
              "      </div>\n",
              "      \n",
              "      <script>\n",
              "         d3.select(\".myclass\").html(\"Hello World! <p>from D11AD</p>\");\n",
              "      </script>\n",
              "   </body>\n",
              "</html>\n"
            ]
          },
          "metadata": {}
        }
      ]
    },
    {
      "cell_type": "markdown",
      "source": [
        "The attr() Method -  used to add or update the attribute of the selected elements."
      ],
      "metadata": {
        "id": "4Xp1Cci5TF_x"
      }
    },
    {
      "cell_type": "code",
      "source": [
        "%%html\n",
        "<!DOCTYPE html>\n",
        "<html>\n",
        "   <head>\n",
        "      <script type = \"text/javascript\" src = \"https://d3js.org/d3.v4.min.js\"></script>\n",
        "   </head>\n",
        "\n",
        "   <body>\n",
        "      <div class = \"myclass\">\n",
        "         You are dead tonight!!:(\n",
        "      </div>\n",
        "\n",
        "      <script>\n",
        "         d3.select(\".myclass\").attr(\"style\", \"color: red\");\n",
        "      </script>\n",
        "   </body>\n",
        "</html>"
      ],
      "metadata": {
        "colab": {
          "base_uri": "https://localhost:8080/",
          "height": 34
        },
        "id": "fIyTuwjHP7x6",
        "outputId": "73b0b3ad-b03b-4f6c-91a6-e3f9d0ef1fa0"
      },
      "execution_count": null,
      "outputs": [
        {
          "output_type": "display_data",
          "data": {
            "text/plain": [
              "<IPython.core.display.HTML object>"
            ],
            "text/html": [
              "<!DOCTYPE html>\n",
              "<html>\n",
              "   <head>\n",
              "      <script type = \"text/javascript\" src = \"https://d3js.org/d3.v4.min.js\"></script>\n",
              "   </head>\n",
              "\n",
              "   <body>\n",
              "      <div class = \"myclass\">\n",
              "         You are dead tonight!!:(\n",
              "      </div>\n",
              "      \n",
              "      <script>\n",
              "         d3.select(\".myclass\").attr(\"style\", \"color: red\");\n",
              "      </script>\n",
              "   </body>\n",
              "</html>\n"
            ]
          },
          "metadata": {}
        }
      ]
    },
    {
      "cell_type": "markdown",
      "source": [
        "The style() Method - used to set the style property of the selected elements."
      ],
      "metadata": {
        "id": "zAxfGOhWTWQe"
      }
    },
    {
      "cell_type": "code",
      "source": [
        "%%html\n",
        "<!DOCTYPE html>\n",
        "<html>\n",
        "   <head>\n",
        "      <script type = \"text/javascript\" src = \"https://d3js.org/d3.v4.min.js\"></script>\n",
        "   </head>\n",
        "\n",
        "   <body>\n",
        "      <div class = \"myclass\">\n",
        "         Keh diya Keh diya You are my Sonia\n",
        "      </div>\n",
        "\n",
        "      <script>\n",
        "         d3.select(\".myclass\").style(\"color\", \"pink\");\n",
        "      </script>\n",
        "   </body>\n",
        "</html>"
      ],
      "metadata": {
        "colab": {
          "base_uri": "https://localhost:8080/",
          "height": 34
        },
        "id": "aLAUbqWXP8MK",
        "outputId": "f6e3c60e-5e54-4139-ca37-2a9c97014823"
      },
      "execution_count": null,
      "outputs": [
        {
          "output_type": "display_data",
          "data": {
            "text/plain": [
              "<IPython.core.display.HTML object>"
            ],
            "text/html": [
              "<!DOCTYPE html>\n",
              "<html>\n",
              "   <head>\n",
              "      <script type = \"text/javascript\" src = \"https://d3js.org/d3.v4.min.js\"></script>\n",
              "   </head>\n",
              "\n",
              "   <body>\n",
              "      <div class = \"myclass\">\n",
              "         Keh diya Keh diya You are my Sonia\n",
              "      </div>\n",
              "      \n",
              "      <script>\n",
              "         d3.select(\".myclass\").style(\"color\", \"pink\");\n",
              "      </script>\n",
              "   </body>\n",
              "</html>\n"
            ]
          },
          "metadata": {}
        }
      ]
    },
    {
      "cell_type": "markdown",
      "source": [
        "The selectAll() Method - used to select multiple elements in the HTML document.\n"
      ],
      "metadata": {
        "id": "F-hgJJMzTnmx"
      }
    },
    {
      "cell_type": "code",
      "source": [
        "%%html\n",
        "<!DOCTYPE html>\n",
        "<html>\n",
        "   <head>\n",
        "      <script type = \"text/javascript\" src = \"https://d3js.org/d3.v4.min.js\"></script>\n",
        "   </head>\n",
        "\n",
        "   <body>\n",
        "      <h2 class = \"myclass\">VESIT</h2>\n",
        "      <div class = \"myclass\">\n",
        "         Artificial Intelligence and data science\n",
        "      </div>\n",
        "\n",
        "      <script>\n",
        "         d3.selectAll(\".myclass\").attr(\"style\", \"color: yellow\");\n",
        "      </script>\n",
        "   </body>\n",
        "</html>"
      ],
      "metadata": {
        "colab": {
          "base_uri": "https://localhost:8080/",
          "height": 82
        },
        "id": "HORHj4oGP8xA",
        "outputId": "a702160d-5f26-4396-8d4b-f5e90c4fa7fb"
      },
      "execution_count": null,
      "outputs": [
        {
          "output_type": "display_data",
          "data": {
            "text/plain": [
              "<IPython.core.display.HTML object>"
            ],
            "text/html": [
              "<!DOCTYPE html>\n",
              "<html>\n",
              "   <head>\n",
              "      <script type = \"text/javascript\" src = \"https://d3js.org/d3.v4.min.js\"></script>\n",
              "   </head>\n",
              "\n",
              "   <body>\n",
              "      <h2 class = \"myclass\">VESIT</h2>\n",
              "      <div class = \"myclass\">\n",
              "         Artificial Intelligence and data science\n",
              "      </div>\n",
              "      \n",
              "      <script>\n",
              "         d3.selectAll(\".myclass\").attr(\"style\", \"color: yellow\");\n",
              "      </script>\n",
              "   </body>\n",
              "</html>\n"
            ]
          },
          "metadata": {}
        }
      ]
    },
    {
      "cell_type": "markdown",
      "source": [
        "\n",
        "\n",
        "\n",
        "\n",
        "*   Add class − To add a class, the second parameter of the classed method must be set to true.\n",
        "*  Remove class − To remove a class, the second parameter of the classed method must be set to false\n",
        "\n",
        "*  Check class − To check for the existence of a class, just leave off the second parameter and pass the class name you are querying.\n",
        "\n",
        "\n",
        "\n"
      ],
      "metadata": {
        "id": "gxPE5DYtVFgb"
      }
    },
    {
      "cell_type": "code",
      "source": [
        "%%html\n",
        "<!DOCTYPE html>\n",
        "<html>\n",
        "   <head>\n",
        "      <script type = \"text/javascript\" src = \"https://d3js.org/d3.v4.min.js\"></script>\n",
        "   </head>\n",
        "\n",
        "   <body>\n",
        "      <h2 class = \"myclass\">VESIT</h2>\n",
        "      <div class = \"myclass\">\n",
        "         Artificial Intelligence and data science\n",
        "      </div>\n",
        "\n",
        "      <script>\n",
        "          d3.select(\".myclass\").classed(\"myanotherclass\", true);\n",
        "          d3.select(\".myclass\").classed(\"myanotherclass\");\n",
        "          d3.select(\".myclass\").classed(\"myanotherclass\", false);\n",
        "      </script>\n",
        "   </body>\n",
        "</html>"
      ],
      "metadata": {
        "colab": {
          "base_uri": "https://localhost:8080/",
          "height": 82
        },
        "id": "fo6PTz1FP9IC",
        "outputId": "86d23167-f70f-43bd-e074-e90b4fc59487"
      },
      "execution_count": null,
      "outputs": [
        {
          "output_type": "display_data",
          "data": {
            "text/plain": [
              "<IPython.core.display.HTML object>"
            ],
            "text/html": [
              "<!DOCTYPE html>\n",
              "<html>\n",
              "   <head>\n",
              "      <script type = \"text/javascript\" src = \"https://d3js.org/d3.v4.min.js\"></script>\n",
              "   </head>\n",
              "\n",
              "   <body>\n",
              "      <h2 class = \"myclass\">VESIT</h2>\n",
              "      <div class = \"myclass\">\n",
              "         Artificial Intelligence and data science\n",
              "      </div>\n",
              "      \n",
              "      <script>\n",
              "          d3.select(\".myclass\").classed(\"myanotherclass\", true);\n",
              "          d3.select(\".myclass\").classed(\"myanotherclass\");\n",
              "          d3.select(\".myclass\").classed(\"myanotherclass\", false);\n",
              "      </script>\n",
              "   </body>\n",
              "</html>\n"
            ]
          },
          "metadata": {}
        }
      ]
    },
    {
      "cell_type": "markdown",
      "source": [
        "**DATA JOIN**"
      ],
      "metadata": {
        "id": "QiZlmdCQVsoa"
      }
    },
    {
      "cell_type": "markdown",
      "source": [
        "1.   The JavaScript section uses D3.js to select the 'ul' element with the id list and then selects all existing 'li' elements inside it.\n",
        "\n",
        "2.   It binds a dataset [10, 20, 30, 25, 15] to these list items using the .data() method. This dataset will be used to create or update list items based on its values.\n",
        "\n",
        "3.   The .text() method is used to set the text content of each list item. The first .text() call updates the existing list items with text like \"This is pre-existing element and the value is \" followed by the corresponding value from the dataset.\n",
        "\n",
        "4.   The .enter() method selects any data elements that don't have corresponding DOM elements (in this case, list items), and for each missing element, it appends a new <li> element to the list.\n",
        "\n",
        "5.   For these new list items, another .text() call sets the text content similar to the previous one, but this time it specifies that these are dynamically created elements.\n",
        "\n",
        "6.   The remove() function is defined to handle the button click event. When the button is clicked, it selects all <li> elements again, binds a new dataset [10, 20, 30, 15] to them (without the value 25), and then uses the .exit().remove() sequence. This sequence removes any extra elements (in this case, the one with value 25) from the list because they are no longer part of the bound dataset.\n",
        "\n",
        "\n",
        "\n",
        "\n"
      ],
      "metadata": {
        "id": "clAplB_VVvlC"
      }
    },
    {
      "cell_type": "code",
      "source": [
        "%%html\n",
        "<!DOCTYPE html>\n",
        "<html>\n",
        "   <head>\n",
        "      <script type = \"text/javascript\" src = \"https://d3js.org/d3.v4.min.js\"></script>\n",
        "      <style>\n",
        "         body { font-family: Arial; }\n",
        "      </style>\n",
        "   </head>\n",
        "\n",
        "   <body>\n",
        "      <ul id = \"list\">\n",
        "         <li></li>\n",
        "         <li></li>\n",
        "      </ul>\n",
        "\n",
        "      <input type = \"button\" name = \"remove\" value = \"Remove fourth value\"\n",
        "         onclick = \"javascript:remove()\" />\n",
        "\n",
        "      <script>\n",
        "         d3.select(\"#list\").selectAll(\"li\")\n",
        "            .data([10, 20, 30, 25, 15])\n",
        "            .text(function(d)\n",
        "               { return \"This is pre-existing element and the value is \" + d; })\n",
        "            .enter()\n",
        "            .append(\"li\")\n",
        "            .text(function(d)\n",
        "               { return \"This is dynamically created element and the value is \" + d; });\n",
        "\n",
        "         function remove() {\n",
        "            d3.selectAll(\"li\")\n",
        "            .data([10, 20, 30, 15])\n",
        "            .exit()\n",
        "            .remove()\n",
        "         }\n",
        "      </script>\n",
        "   </body>\n",
        "</html>"
      ],
      "metadata": {
        "colab": {
          "base_uri": "https://localhost:8080/",
          "height": 135
        },
        "id": "kpvQI_QCP9Xh",
        "outputId": "00d0dc4f-3cb9-441d-b8c3-4941da3704e1"
      },
      "execution_count": null,
      "outputs": [
        {
          "output_type": "display_data",
          "data": {
            "text/plain": [
              "<IPython.core.display.HTML object>"
            ],
            "text/html": [
              "<!DOCTYPE html>\n",
              "<html>\n",
              "   <head>\n",
              "      <script type = \"text/javascript\" src = \"https://d3js.org/d3.v4.min.js\"></script>\n",
              "      <style>\n",
              "         body { font-family: Arial; }\n",
              "      </style>\n",
              "   </head>\n",
              "\n",
              "   <body>\n",
              "      <ul id = \"list\">\n",
              "         <li></li>\n",
              "         <li></li>\n",
              "      </ul>\n",
              "        \n",
              "      <input type = \"button\" name = \"remove\" value = \"Remove fourth value\" \n",
              "         onclick = \"javascript:remove()\" />\n",
              "      \n",
              "      <script>\n",
              "         d3.select(\"#list\").selectAll(\"li\")\n",
              "            .data([10, 20, 30, 25, 15])\n",
              "            .text(function(d) \n",
              "               { return \"This is pre-existing element and the value is \" + d; })\n",
              "            .enter()\n",
              "            .append(\"li\")\n",
              "            .text(function(d) \n",
              "               { return \"This is dynamically created element and the value is \" + d; });\n",
              "             \n",
              "         function remove() {\n",
              "            d3.selectAll(\"li\")\n",
              "            .data([10, 20, 30, 15])\n",
              "            .exit()\n",
              "            .remove()\n",
              "         }\n",
              "      </script>\n",
              "   </body>\n",
              "</html>\n"
            ]
          },
          "metadata": {}
        }
      ]
    },
    {
      "cell_type": "markdown",
      "source": [
        "# **Scalable Vector Graphics (SVG)**"
      ],
      "metadata": {
        "id": "aK_Kgh-6aeLK"
      }
    },
    {
      "cell_type": "markdown",
      "source": [
        "SVG stands for Scalable Vector Graphics. SVG is an XML-based vector graphics format. It provides options to draw different shapes such as Lines, Rectangles, Circles, Ellipses, etc. Hence, designing visualizations with SVG gives you more power and flexibility.\n",
        "Features of SVG:\n",
        "\n",
        "\n",
        "*   SVG is a vector based image format and it is text-based.\n",
        "*   SVG is similar in structure to HTML.\n",
        "\n",
        "*   SVG can be represented as a Document object model.\n",
        "*   SVG properties can be specified as attributes.\n",
        "*   SVG should have absolute positions relative to the origin (0, 0).\n",
        "*   SVG can be included as is in the HTML document.\n",
        "\n",
        "Step 1 − Create a SVG image and set width as 300 pixel and height as 300 pixel.\n",
        "\n",
        "Step 2 − Create a line starting at 100, 100 and ending at 200, 100 and set red color for the line.\n",
        "\n",
        "Step 3 − Create a HTML document, “svg_line.html” and integrate the above SVG"
      ],
      "metadata": {
        "id": "6lzioPyGarLy"
      }
    },
    {
      "cell_type": "code",
      "source": [
        "%%html\n",
        "<!DOCTYPE html>\n",
        "<html>\n",
        "   <head>\n",
        "      <script type = \"text/javascript\" src = \"https://d3js.org/d3.v4.min.js\"></script>\n",
        "      <style>\n",
        "         body { font-family: Arial; }\n",
        "      </style>\n",
        "   </head>\n",
        "\n",
        "   <body>\n",
        "      <div id = \"svgcontainer\">\n",
        "         <svg width = \"300\" height = \"300\">\n",
        "            <line x1 = \"100\" y1 = \"100\"\n",
        "               x2 = \"200\" y2 = \"200\" style = \"stroke:rgb(0,255,255);\n",
        "               stroke-width:2\"/>\n",
        "         </svg>\n",
        "      </div>\n",
        "      <p></p>\n",
        "      <p></p>\n",
        "   </body>\n",
        "</html>"
      ],
      "metadata": {
        "colab": {
          "base_uri": "https://localhost:8080/",
          "height": 327
        },
        "id": "iTpzwwBFP9kp",
        "outputId": "b3074a9d-dc78-4a88-af73-38df4aa2fbeb"
      },
      "execution_count": null,
      "outputs": [
        {
          "output_type": "display_data",
          "data": {
            "text/plain": [
              "<IPython.core.display.HTML object>"
            ],
            "text/html": [
              "<!DOCTYPE html>\n",
              "<html>\n",
              "   <head>\n",
              "      <script type = \"text/javascript\" src = \"https://d3js.org/d3.v4.min.js\"></script>\n",
              "      <style>\n",
              "         body { font-family: Arial; }\n",
              "      </style>\n",
              "   </head>\n",
              "\n",
              "   <body>\n",
              "      <div id = \"svgcontainer\">\n",
              "         <svg width = \"300\" height = \"300\">\n",
              "            <line x1 = \"100\" y1 = \"100\" \n",
              "               x2 = \"200\" y2 = \"200\" style = \"stroke:rgb(0,255,255);\n",
              "               stroke-width:2\"/>\n",
              "         </svg>\n",
              "      </div>\n",
              "      <p></p>\n",
              "      <p></p>\n",
              "   </body>\n",
              "</html>\n"
            ]
          },
          "metadata": {}
        }
      ]
    },
    {
      "cell_type": "markdown",
      "source": [
        "**SVG using D3.js**\n",
        "\n",
        "Step 1 − Create a container to hold the SVG image as given below.\n",
        "\n",
        "Step 2 − Select the SVG container using the select() method and inject the SVG element using the append() method. Add the attributes and styles using the attr() and the style() methods.\n",
        "\n",
        "Step 3 − Similarly, add the line element inside the svg element as shown below."
      ],
      "metadata": {
        "id": "j5cK3mmZa8NL"
      }
    },
    {
      "cell_type": "code",
      "source": [
        "%%html\n",
        "<!DOCTYPE html>\n",
        "<html>\n",
        "   <head>\n",
        "      <script type = \"text/javascript\" src = \"https://d3js.org/d3.v4.min.js\"></script>\n",
        "      <style>\n",
        "         body { font-family: Arial; }\n",
        "      </style>\n",
        "   </head>\n",
        "\n",
        "   <body>\n",
        "      <div id = \"svgcontainer\">\n",
        "      </div>\n",
        "      <script language = \"javascript\">\n",
        "         var width = 300;\n",
        "         var height = 300;\n",
        "         var svg = d3.select(\"#svgcontainer\")\n",
        "            .append(\"svg\")\n",
        "            .attr(\"width\", width)\n",
        "            .attr(\"height\", height);\n",
        "         svg.append(\"line\")\n",
        "            .attr(\"x1\", 100)\n",
        "            .attr(\"y1\", 100)\n",
        "            .attr(\"x2\", 200)\n",
        "            .attr(\"y2\", 200)\n",
        "            .style(\"stroke\", \"rgb(0,255,255)\")\n",
        "            .style(\"stroke-width\", 2);\n",
        "      </script>\n",
        "   </body>\n",
        "</html>"
      ],
      "metadata": {
        "colab": {
          "base_uri": "https://localhost:8080/",
          "height": 321
        },
        "id": "A_c3tzSwP9zJ",
        "outputId": "11ccd7fc-435d-4209-8a5d-43582fd33f5a"
      },
      "execution_count": null,
      "outputs": [
        {
          "output_type": "display_data",
          "data": {
            "text/plain": [
              "<IPython.core.display.HTML object>"
            ],
            "text/html": [
              "<!DOCTYPE html>\n",
              "<html>\n",
              "   <head>\n",
              "      <script type = \"text/javascript\" src = \"https://d3js.org/d3.v4.min.js\"></script>\n",
              "      <style>\n",
              "         body { font-family: Arial; }\n",
              "      </style>\n",
              "   </head>\n",
              "\n",
              "   <body>\n",
              "      <div id = \"svgcontainer\">\n",
              "      </div>\n",
              "      <script language = \"javascript\">\n",
              "         var width = 300;\n",
              "         var height = 300;\n",
              "         var svg = d3.select(\"#svgcontainer\")\n",
              "            .append(\"svg\")\n",
              "            .attr(\"width\", width)\n",
              "            .attr(\"height\", height);\n",
              "         svg.append(\"line\")\n",
              "            .attr(\"x1\", 100)\n",
              "            .attr(\"y1\", 100)\n",
              "            .attr(\"x2\", 200)\n",
              "            .attr(\"y2\", 200)\n",
              "            .style(\"stroke\", \"rgb(0,255,255)\")\n",
              "            .style(\"stroke-width\", 2);\n",
              "      </script>\n",
              "   </body>\n",
              "</html>\n"
            ]
          },
          "metadata": {}
        }
      ]
    },
    {
      "cell_type": "markdown",
      "source": [
        "**Rectangle Element**\n",
        "\n",
        "A **rectangle** is represented by the rect tag as shown below.\n",
        "\n",
        "The attributes of a rectangle are as follows −\n",
        "\n",
        "x − This is the x-coordinate of the top-left corner of the rectangle.\n",
        "\n",
        "y − This is the y-coordinate of the top-left corner of the rectangle.\n",
        "\n",
        "width − This denotes the width of the rectangle.\n",
        "\n",
        "height − This denotes the height of the rectangle."
      ],
      "metadata": {
        "id": "D4dnFL-CtgcI"
      }
    },
    {
      "cell_type": "code",
      "source": [
        "%%html\n",
        "<!DOCTYPE html>\n",
        "<html>\n",
        "   <head>\n",
        "      <script type = \"text/javascript\" src = \"https://d3js.org/d3.v4.min.js\"></script>\n",
        "   </head>\n",
        "\n",
        "   <body>\n",
        "      <div id = \"svgcontainer\"></div>\n",
        "      <script>\n",
        "         var width = 300;\n",
        "         var height = 300;\n",
        "         //Create SVG element\n",
        "         var svg = d3.select(\"#svgcontainer\")\n",
        "            .append(\"svg\")\n",
        "            .attr(\"width\", width)\n",
        "            .attr(\"height\", height);\n",
        "         //Create and append rectangle element\n",
        "         svg.append(\"rect\")\n",
        "            .attr(\"x\", 20)\n",
        "            .attr(\"y\", 20)\n",
        "            .attr(\"width\", 200)\n",
        "            .attr(\"height\", 100)\n",
        "            .attr(\"fill\", \"purple\");\n",
        "      </script>\n",
        "   </body>\n",
        "</html>"
      ],
      "metadata": {
        "colab": {
          "base_uri": "https://localhost:8080/",
          "height": 321
        },
        "id": "BJclBtwSP9_C",
        "outputId": "a59b1049-f75c-48da-c673-49f13f3f1c6b"
      },
      "execution_count": null,
      "outputs": [
        {
          "output_type": "display_data",
          "data": {
            "text/plain": [
              "<IPython.core.display.HTML object>"
            ],
            "text/html": [
              "<!DOCTYPE html>\n",
              "<html>\n",
              "   <head>\n",
              "      <script type = \"text/javascript\" src = \"https://d3js.org/d3.v4.min.js\"></script>\n",
              "   </head>\n",
              "\n",
              "   <body>\n",
              "      <div id = \"svgcontainer\"></div>\n",
              "      <script>\n",
              "         var width = 300;\n",
              "         var height = 300;\n",
              "         //Create SVG element\n",
              "         var svg = d3.select(\"#svgcontainer\")\n",
              "            .append(\"svg\")\n",
              "            .attr(\"width\", width)\n",
              "            .attr(\"height\", height);\n",
              "         //Create and append rectangle element\n",
              "         svg.append(\"rect\")\n",
              "            .attr(\"x\", 20)\n",
              "            .attr(\"y\", 20)\n",
              "            .attr(\"width\", 200)\n",
              "            .attr(\"height\", 100)\n",
              "            .attr(\"fill\", \"purple\");\n",
              "      </script>\n",
              "   </body>\n",
              "</html>\n"
            ]
          },
          "metadata": {}
        }
      ]
    },
    {
      "cell_type": "markdown",
      "source": [
        "**Circle Element**\n",
        "\n",
        "A **circle** is represented by the circle tag as explained below.\n",
        "The attributes of circle are as follows −\n",
        "\n",
        "cx − This is the x-coordinate of the center of the circle.\n",
        "\n",
        "cy − This is the y-coordinate of the center of the circle.\n",
        "\n",
        "r − This denotes the radius of the circle."
      ],
      "metadata": {
        "id": "U_3fLSCbtoyY"
      }
    },
    {
      "cell_type": "code",
      "source": [
        "%%html\n",
        "<!DOCTYPE html>\n",
        "<html>\n",
        "   <head>\n",
        "      <script type = \"text/javascript\" src = \"https://d3js.org/d3.v4.min.js\"></script>\n",
        "   </head>\n",
        "\n",
        "   <body>\n",
        "      <div id = \"svgcontainer\"></div>\n",
        "      <script>\n",
        "         var width = 300;\n",
        "         var height = 300;\n",
        "         //Create SVG element\n",
        "         var svg = d3.select(\"#svgcontainer\")\n",
        "            .append(\"svg\")\n",
        "            .attr(\"width\", width)\n",
        "            .attr(\"height\", height);\n",
        "         //Append circle\n",
        "         svg.append(\"circle\")\n",
        "            .attr(\"cx\", 200)\n",
        "            .attr(\"cy\", 50)\n",
        "            .attr(\"r\", 50)\n",
        "            .attr(\"fill\", \"lightblue\");\n",
        "      </script>\n",
        "   </body>\n",
        "</html>"
      ],
      "metadata": {
        "colab": {
          "base_uri": "https://localhost:8080/",
          "height": 321
        },
        "id": "HopcRVoUP-IZ",
        "outputId": "48824c29-e591-4c1d-97ed-d868ce582b35"
      },
      "execution_count": null,
      "outputs": [
        {
          "output_type": "display_data",
          "data": {
            "text/plain": [
              "<IPython.core.display.HTML object>"
            ],
            "text/html": [
              "<!DOCTYPE html>\n",
              "<html>\n",
              "   <head>\n",
              "      <script type = \"text/javascript\" src = \"https://d3js.org/d3.v4.min.js\"></script>\n",
              "   </head>\n",
              "\n",
              "   <body>\n",
              "      <div id = \"svgcontainer\"></div>\n",
              "      <script>\n",
              "         var width = 300;\n",
              "         var height = 300;\n",
              "         //Create SVG element\n",
              "         var svg = d3.select(\"#svgcontainer\")\n",
              "            .append(\"svg\")\n",
              "            .attr(\"width\", width)\n",
              "            .attr(\"height\", height);\n",
              "         //Append circle \n",
              "         svg.append(\"circle\")\n",
              "            .attr(\"cx\", 200)\n",
              "            .attr(\"cy\", 50)\n",
              "            .attr(\"r\", 50)\n",
              "            .attr(\"fill\", \"lightblue\");\n",
              "      </script>\n",
              "   </body>\n",
              "</html>\n"
            ]
          },
          "metadata": {}
        }
      ]
    },
    {
      "cell_type": "markdown",
      "source": [
        "**Ellipse Element**\n",
        "\n",
        "The SVG **Ellipse** element is represented by the <ellipse> tag as explained below.\n",
        "The attributes of an ellipse are as follows −\n",
        "\n",
        "cx − This is the x-coordinate of the center of the ellipse.\n",
        "\n",
        "cy − This is the y-coordinate of the center of the ellipse.\n",
        "\n",
        "rx − This is the x radius of the circle.\n",
        "\n",
        "ry − This is the y radius of the circle."
      ],
      "metadata": {
        "id": "mnFHflgttt2h"
      }
    },
    {
      "cell_type": "code",
      "source": [
        "%%html\n",
        "<html>\n",
        "   <head>\n",
        "      <script type = \"text/javascript\" src = \"https://d3js.org/d3.v4.min.js\"></script>\n",
        "   </head>\n",
        "\n",
        "   <body>\n",
        "      <div id = \"svgcontainer\"></div>\n",
        "      <script>\n",
        "         var width = 300;\n",
        "         var height = 300;\n",
        "         var svg = d3.select(\"#svgcontainer\")\n",
        "            .append(\"svg\")\n",
        "            .attr(\"width\", width)\n",
        "            .attr(\"height\", height);\n",
        "         svg.append(\"ellipse\")\n",
        "            .attr(\"cx\", 200)\n",
        "            .attr(\"cy\", 50)\n",
        "            .attr(\"rx\", 100)\n",
        "            .attr(\"ry\", 50)\n",
        "            .attr(\"fill\", \"cyan\")\n",
        "      </script>\n",
        "   </body>\n",
        "</html>"
      ],
      "metadata": {
        "colab": {
          "base_uri": "https://localhost:8080/",
          "height": 321
        },
        "id": "V9mntWDYP-R6",
        "outputId": "7985e16f-1b70-4297-8551-59274f0df775"
      },
      "execution_count": null,
      "outputs": [
        {
          "output_type": "display_data",
          "data": {
            "text/plain": [
              "<IPython.core.display.HTML object>"
            ],
            "text/html": [
              "<html>\n",
              "   <head>\n",
              "      <script type = \"text/javascript\" src = \"https://d3js.org/d3.v4.min.js\"></script>\n",
              "   </head>\n",
              "\n",
              "   <body>\n",
              "      <div id = \"svgcontainer\"></div>\n",
              "      <script>\n",
              "         var width = 300;\n",
              "         var height = 300;\n",
              "         var svg = d3.select(\"#svgcontainer\")\n",
              "            .append(\"svg\")\n",
              "            .attr(\"width\", width)\n",
              "            .attr(\"height\", height);\n",
              "         svg.append(\"ellipse\")\n",
              "            .attr(\"cx\", 200)\n",
              "            .attr(\"cy\", 50)\n",
              "            .attr(\"rx\", 100)\n",
              "            .attr(\"ry\", 50)\n",
              "            .attr(\"fill\", \"cyan\")\n",
              "      </script>\n",
              "   </body>\n",
              "</html>\n"
            ]
          },
          "metadata": {}
        }
      ]
    },
    {
      "cell_type": "markdown",
      "source": [
        "## **SVG Transformation**"
      ],
      "metadata": {
        "id": "BmXDjmHEtxmJ"
      }
    },
    {
      "cell_type": "markdown",
      "source": [
        "SVG provides options to transform a single SVG shape element or group of SVG elements. SVG transform supports **Translate, Scale, Rotate and Skew**.\n",
        "SVG introduces a new attribute, transform to support transformation.\n",
        "\n",
        "**SVG rectangle with translate**"
      ],
      "metadata": {
        "id": "p6_cD52ptzO6"
      }
    },
    {
      "cell_type": "code",
      "source": [
        "%%html\n",
        "<html>\n",
        "   <head>\n",
        "      <script type = \"text/javascript\" src = \"https://d3js.org/d3.v4.min.js\"></script>\n",
        "   </head>\n",
        "\n",
        "   <body>\n",
        "      <svg width = \"300\" height = \"300\">\n",
        "         <rect x = \"20\"\n",
        "            y = \"20\"\n",
        "            width = \"70\"\n",
        "            height = \"70\"\n",
        "            fill = \"yellow\"\n",
        "            transform = \"translate(30 30)\">\n",
        "         </rect>\n",
        "      </svg>\n",
        "   </body>\n",
        "</html>"
      ],
      "metadata": {
        "colab": {
          "base_uri": "https://localhost:8080/",
          "height": 321
        },
        "id": "Ire5meQhP-cR",
        "outputId": "39c39e75-2622-4d5e-80f4-a6505ec86312"
      },
      "execution_count": null,
      "outputs": [
        {
          "output_type": "display_data",
          "data": {
            "text/plain": [
              "<IPython.core.display.HTML object>"
            ],
            "text/html": [
              "<html>\n",
              "   <head>\n",
              "      <script type = \"text/javascript\" src = \"https://d3js.org/d3.v4.min.js\"></script>\n",
              "   </head>\n",
              "\n",
              "   <body>\n",
              "      <svg width = \"300\" height = \"300\">\n",
              "         <rect x = \"20\" \n",
              "            y = \"20\"\n",
              "            width = \"70\"\n",
              "            height = \"70\"\n",
              "            fill = \"yellow\"\n",
              "            transform = \"translate(30 30)\">\n",
              "         </rect>\n",
              "      </svg>\n",
              "   </body>\n",
              "</html>\n"
            ]
          },
          "metadata": {}
        }
      ]
    },
    {
      "cell_type": "markdown",
      "source": [
        "More than one transformation can be specified for a single SVG element using space as separation. If more than one value is specified, the transformation will be applied one by one sequentially in the order specified."
      ],
      "metadata": {
        "id": "Lvm-ZrO5t6hz"
      }
    },
    {
      "cell_type": "code",
      "source": [
        "%%html\n",
        "<html>\n",
        "   <head>\n",
        "      <script type = \"text/javascript\" src = \"https://d3js.org/d3.v4.min.js\"></script>\n",
        "   </head>\n",
        "\n",
        "   <body>\n",
        "      <svg width = \"300\" height = \"300\">\n",
        "         <rect x = \"20\"\n",
        "            y = \"20\"\n",
        "            width = \"60\"\n",
        "            height = \"60\"\n",
        "            fill = \"red\"\n",
        "            transform = \"translate(60 60) rotate(45)\">\n",
        "         </rect>\n",
        "      </svg>\n",
        "   </body>\n",
        "</html>"
      ],
      "metadata": {
        "colab": {
          "base_uri": "https://localhost:8080/",
          "height": 321
        },
        "id": "p-UTAeb1P-l6",
        "outputId": "f4f9715b-2464-445b-d7f5-a4baef376758"
      },
      "execution_count": null,
      "outputs": [
        {
          "output_type": "display_data",
          "data": {
            "text/plain": [
              "<IPython.core.display.HTML object>"
            ],
            "text/html": [
              "<html>\n",
              "   <head>\n",
              "      <script type = \"text/javascript\" src = \"https://d3js.org/d3.v4.min.js\"></script>\n",
              "   </head>\n",
              "\n",
              "   <body>\n",
              "      <svg width = \"300\" height = \"300\">\n",
              "         <rect x = \"20\" \n",
              "            y = \"20\" \n",
              "            width = \"60\" \n",
              "            height = \"60\" \n",
              "            fill = \"red\" \n",
              "            transform = \"translate(60 60) rotate(45)\">\n",
              "         </rect>\n",
              "      </svg>\n",
              "   </body>\n",
              "</html>\n"
            ]
          },
          "metadata": {}
        }
      ]
    },
    {
      "cell_type": "markdown",
      "source": [
        "Transformation can be applied to the SVG group element as well. This enables to transform complex graphics defined in the SVG as described below."
      ],
      "metadata": {
        "id": "kw3prs_0t-Uu"
      }
    },
    {
      "cell_type": "code",
      "source": [
        "%%html\n",
        "<html>\n",
        "   <head>\n",
        "      <script type = \"text/javascript\" src = \"https://d3js.org/d3.v4.min.js\"></script>\n",
        "   </head>\n",
        "\n",
        "   <body>\n",
        "      <svg width = \"300\" height = \"300\">\n",
        "         <g transform = \"translate(60,60) rotate(30)\">\n",
        "            <rect x = \"20\"\n",
        "               y = \"20\"\n",
        "               width = \"60\"\n",
        "               height = \"30\"\n",
        "               fill = \"lightgreen\">\n",
        "            </rect>\n",
        "            <circle cx = \"0\"\n",
        "               cy = \"0\"\n",
        "               r = \"30\"\n",
        "               fill = \"gray\"/>\n",
        "         </g>\n",
        "      </svg>\n",
        "   </body>\n",
        "</html>"
      ],
      "metadata": {
        "colab": {
          "base_uri": "https://localhost:8080/",
          "height": 321
        },
        "id": "hLqg14EBbzaC",
        "outputId": "36a875f2-191e-4721-e5ba-3a432b4ec070"
      },
      "execution_count": null,
      "outputs": [
        {
          "output_type": "display_data",
          "data": {
            "text/plain": [
              "<IPython.core.display.HTML object>"
            ],
            "text/html": [
              "<html>\n",
              "   <head>\n",
              "      <script type = \"text/javascript\" src = \"https://d3js.org/d3.v4.min.js\"></script>\n",
              "   </head>\n",
              "\n",
              "   <body>\n",
              "      <svg width = \"300\" height = \"300\">\n",
              "         <g transform = \"translate(60,60) rotate(30)\">\n",
              "            <rect x = \"20\" \n",
              "               y = \"20\" \n",
              "               width = \"60\" \n",
              "               height = \"30\" \n",
              "               fill = \"lightgreen\">\n",
              "            </rect>\n",
              "            <circle cx = \"0\" \n",
              "               cy = \"0\" \n",
              "               r = \"30\" \n",
              "               fill = \"gray\"/>\n",
              "         </g>\n",
              "      </svg>\n",
              "   </body>\n",
              "</html>\n"
            ]
          },
          "metadata": {}
        }
      ]
    },
    {
      "cell_type": "markdown",
      "source": [
        "To create an SVG image, try to scale, and rotate it using transformation, let us follow the steps given below.\n",
        "\n",
        "Step 1 − Create an SVG image and set width as 300 pixels and height as 300 pixels.\n",
        "\n",
        "Step 2 − Create an SVG group.\n",
        "\n",
        "Step 3 − Create a rectangle of length 60 and height 30 and fill it with cyan color.\n",
        "\n",
        "Step 4 − Create a circle of radius 30 and fill it with *maroon* color.\n",
        "\n",
        "Step 5 − Add a transform attribute and add translate and rotate\n",
        "\n",
        "Step 6 − Create an HTML document, “svg_transform_rotate_group.html” and integrate the above"
      ],
      "metadata": {
        "id": "qmjGnAVZuBRo"
      }
    },
    {
      "cell_type": "code",
      "source": [
        "%%html\n",
        "<!DOCTYPE html>\n",
        "<html>\n",
        "   <head>\n",
        "      <script type = \"text/javascript\" src = \"https://d3js.org/d3.v4.min.js\"></script>\n",
        "      <style>\n",
        "         body { font-family: Arial; }\n",
        "      </style>\n",
        "   </head>\n",
        "\n",
        "   <body>\n",
        "      <div id = \"svgcontainer\">\n",
        "         <svg width = \"300\" height = \"300\">\n",
        "            <g transform = \"translate(60,60) rotate(30)\">\n",
        "               <rect x = \"20\"\n",
        "                  y = \"20\"\n",
        "                  width = \"60\"\n",
        "                  height = \"60\"\n",
        "                  fill = \"aqua\">\n",
        "               </rect>\n",
        "               <circle cx = \"0\"\n",
        "                  cy = \"0\"\n",
        "                  r = \"30\"\n",
        "                  fill = \"maroon\"/>\n",
        "            </g>\n",
        "         </svg>\n",
        "      </div>\n",
        "   </body>\n",
        "</html>"
      ],
      "metadata": {
        "colab": {
          "base_uri": "https://localhost:8080/",
          "height": 321
        },
        "id": "iyIALmnzb0qj",
        "outputId": "80f8473c-10f8-485c-b919-8d67373ea200"
      },
      "execution_count": null,
      "outputs": [
        {
          "output_type": "display_data",
          "data": {
            "text/plain": [
              "<IPython.core.display.HTML object>"
            ],
            "text/html": [
              "<!DOCTYPE html>\n",
              "<html>\n",
              "   <head>\n",
              "      <script type = \"text/javascript\" src = \"https://d3js.org/d3.v4.min.js\"></script>\n",
              "      <style>\n",
              "         body { font-family: Arial; }\n",
              "      </style>\n",
              "   </head>\n",
              "\n",
              "   <body>\n",
              "      <div id = \"svgcontainer\">\n",
              "         <svg width = \"300\" height = \"300\">\n",
              "            <g transform = \"translate(60,60) rotate(30)\">\n",
              "               <rect x = \"20\" \n",
              "                  y = \"20\" \n",
              "                  width = \"60\" \n",
              "                  height = \"60\" \n",
              "                  fill = \"aqua\">\n",
              "               </rect>\n",
              "               <circle cx = \"0\" \n",
              "                  cy = \"0\" \n",
              "                  r = \"30\" \n",
              "                  fill = \"maroon\"/>\n",
              "            </g>\n",
              "         </svg>\n",
              "      </div>\n",
              "   </body>\n",
              "</html>\n"
            ]
          },
          "metadata": {}
        }
      ]
    },
    {
      "cell_type": "markdown",
      "source": [
        "**Transformation Using D3.js**\n",
        "\n",
        "Step 1 − Create a container to hold the SVG image\n",
        "\n",
        "Step 2 − Create a SVG image\n",
        "\n",
        "Step 3 − Create a SVG group element and set translate and rotate attributes.\n",
        "\n",
        "Step 4 − Create an SVG rectangle and append it inside the group.\n",
        "\n",
        "Step 5 − Create an SVG circle and append it inside the group.\n"
      ],
      "metadata": {
        "id": "gka-yiT-uDYp"
      }
    },
    {
      "cell_type": "code",
      "source": [
        "%%html\n",
        "<!DOCTYPE html>\n",
        "<html lang = \"en\">\n",
        "   <head>\n",
        "      <title>SVG rectangle</title>\n",
        "      <script type = \"text/javascript\" src = \"https://d3js.org/d3.v4.min.js\"></script>\n",
        "      <style>\n",
        "         body { font-family: Arial; }\n",
        "      </style>\n",
        "   </head>\n",
        "\n",
        "   <body>\n",
        "      <div id = \"svgcontainer\"></div>\n",
        "         <script language = \"javascript\">\n",
        "            var width = 300;\n",
        "            var height = 300;\n",
        "            var svg = d3.select(\"#svgcontainer\")\n",
        "               .append(\"svg\")\n",
        "               .attr(\"width\", width)\n",
        "               .attr(\"height\", height);\n",
        "\n",
        "            var group = svg.append(\"g\")\n",
        "               .attr(\"transform\", \"translate(60, 60) rotate(30)\");\n",
        "\n",
        "            var rect = group.append(\"rect\")\n",
        "               .attr(\"x\", 20)\n",
        "               .attr(\"y\", 20)\n",
        "               .attr(\"width\", 60)\n",
        "               .attr(\"height\", 30)\n",
        "               .attr(\"fill\", \"black\")\n",
        "\n",
        "            var circle = group\n",
        "               .append(\"circle\")\n",
        "               .attr(\"cx\", 0)\n",
        "               .attr(\"cy\", 0)\n",
        "               .attr(\"r\", 30)\n",
        "               .attr(\"fill\", \"pink\")\n",
        "         </script>\n",
        "      </div>\n",
        "   </body>\n",
        "</html>"
      ],
      "metadata": {
        "colab": {
          "base_uri": "https://localhost:8080/",
          "height": 321
        },
        "id": "-qIea-Xkb0-s",
        "outputId": "51f7752d-1799-43f9-ede4-2312abadd670"
      },
      "execution_count": null,
      "outputs": [
        {
          "output_type": "display_data",
          "data": {
            "text/plain": [
              "<IPython.core.display.HTML object>"
            ],
            "text/html": [
              "<!DOCTYPE html>\n",
              "<html lang = \"en\">\n",
              "   <head>\n",
              "      <title>SVG rectangle</title>\n",
              "      <script type = \"text/javascript\" src = \"https://d3js.org/d3.v4.min.js\"></script>\n",
              "      <style>\n",
              "         body { font-family: Arial; }\n",
              "      </style>\n",
              "   </head>\n",
              "\n",
              "   <body>\n",
              "      <div id = \"svgcontainer\"></div>\n",
              "         <script language = \"javascript\">\n",
              "            var width = 300;\n",
              "            var height = 300;\n",
              "            var svg = d3.select(\"#svgcontainer\")\n",
              "               .append(\"svg\")\n",
              "               .attr(\"width\", width)\n",
              "               .attr(\"height\", height);\n",
              "\n",
              "            var group = svg.append(\"g\")\n",
              "               .attr(\"transform\", \"translate(60, 60) rotate(30)\");\n",
              "            \n",
              "            var rect = group.append(\"rect\")\n",
              "               .attr(\"x\", 20)\n",
              "               .attr(\"y\", 20)\n",
              "               .attr(\"width\", 60)\n",
              "               .attr(\"height\", 30)\n",
              "               .attr(\"fill\", \"black\")\n",
              "            \n",
              "            var circle = group\n",
              "               .append(\"circle\")\n",
              "               .attr(\"cx\", 0)\n",
              "               .attr(\"cy\", 0)\n",
              "               .attr(\"r\", 30)\n",
              "               .attr(\"fill\", \"pink\")\n",
              "         </script>\n",
              "      </div>\n",
              "   </body>\n",
              "</html>\n"
            ]
          },
          "metadata": {}
        }
      ]
    },
    {
      "cell_type": "markdown",
      "source": [
        "**transition():**\n",
        "\n",
        "The transition() method is available for all selectors and it starts the transition process. This method supports most of the selection methods such as – attr(), style(), etc. But, It does not support the append() and the data() methods, which need to be called before the transition() method. Also, it provides methods specific to transition like duration(), ease(), etc."
      ],
      "metadata": {
        "id": "oKkt7QOOuIxE"
      }
    },
    {
      "cell_type": "code",
      "source": [
        "%%html\n",
        "<!DOCTYPE html>\n",
        "<html>\n",
        "   <head>\n",
        "      <script type = \"text/javascript\" src = \"https://d3js.org/d3.v4.min.js\"></script>\n",
        "   </head>\n",
        "\n",
        "   <body>\n",
        "      <h3> Mrunal Shinde</h3>\n",
        "      <script>\n",
        "         var t = d3.transition()\n",
        "          .duration(2000);\n",
        "          d3.select(\"body\")\n",
        "          .transition(t)\n",
        "          .style(\"background-color\", \"coral\");\n",
        "      </script>\n",
        "   </body>\n",
        "</html>"
      ],
      "metadata": {
        "colab": {
          "base_uri": "https://localhost:8080/",
          "height": 58
        },
        "id": "ewcZ-Eqkb1Ka",
        "outputId": "d9794861-5eaa-4f65-e367-91b066976ce9"
      },
      "execution_count": null,
      "outputs": [
        {
          "output_type": "display_data",
          "data": {
            "text/plain": [
              "<IPython.core.display.HTML object>"
            ],
            "text/html": [
              "<!DOCTYPE html>\n",
              "<html>\n",
              "   <head>\n",
              "      <script type = \"text/javascript\" src = \"https://d3js.org/d3.v4.min.js\"></script>\n",
              "   </head>\n",
              "\n",
              "   <body>\n",
              "      <h3> Mrunal Shinde</h3>\n",
              "      <script>\n",
              "         var t = d3.transition()\n",
              "          .duration(2000);\n",
              "          d3.select(\"body\")\n",
              "          .transition(t)\n",
              "          .style(\"background-color\", \"coral\");\n",
              "      </script>\n",
              "   </body>\n",
              "</html>\n"
            ]
          },
          "metadata": {}
        }
      ]
    },
    {
      "cell_type": "markdown",
      "source": [
        "**D3.js Animation**\n",
        "\n",
        "D3.js supports animation through transition. We can do animation with proper use of transition. Transitions are a limited form of Key Frame Animation with only two key frames – start and end. The starting key frame is typically the current state of the DOM, and the ending key frame is a set of attributes, styles and other properties you specify."
      ],
      "metadata": {
        "id": "dVVrDf-huNvc"
      }
    },
    {
      "cell_type": "code",
      "source": [
        "%%html\n",
        "<!DOCTYPE html>\n",
        "<html>\n",
        "   <head>\n",
        "      <script type = \"text/javascript\" src = \"https://d3js.org/d3.v4.min.js\"></script>\n",
        "   </head>\n",
        "\n",
        "   <body>\n",
        "      <h3>Simple transitions</h3>\n",
        "      <script>\n",
        "         d3.select(\"body\").style(\"background-color\", \"lightblue\")\n",
        "         // make the background-color lightblue.transition()\n",
        "         .style(\"background-color\", \"gray\");\n",
        "         // make the background-color gray\n",
        "      </script>\n",
        "   </body>\n",
        "</html>\n"
      ],
      "metadata": {
        "colab": {
          "base_uri": "https://localhost:8080/",
          "height": 58
        },
        "id": "UYg8KcdAb2l6",
        "outputId": "8a6f04c4-fb5b-4ff3-bd14-574e2a048093"
      },
      "execution_count": null,
      "outputs": [
        {
          "output_type": "display_data",
          "data": {
            "text/plain": [
              "<IPython.core.display.HTML object>"
            ],
            "text/html": [
              "<!DOCTYPE html>\n",
              "<html>\n",
              "   <head>\n",
              "      <script type = \"text/javascript\" src = \"https://d3js.org/d3.v4.min.js\"></script>\n",
              "   </head>\n",
              "\n",
              "   <body>\n",
              "      <h3>Simple transitions</h3>\n",
              "      <script>\n",
              "         d3.select(\"body\").style(\"background-color\", \"lightblue\") \n",
              "         // make the background-color lightblue.transition()\n",
              "         .style(\"background-color\", \"gray\");\n",
              "         // make the background-color gray\n",
              "      </script>\n",
              "   </body>\n",
              "</html>\n"
            ]
          },
          "metadata": {}
        }
      ]
    },
    {
      "cell_type": "markdown",
      "source": [
        "**duration()**\n",
        "The duration() method allows property changes to occur smoothly over a specified duration rather than instantaneously.\n"
      ],
      "metadata": {
        "id": "qRLnz7S7uYx_"
      }
    },
    {
      "cell_type": "code",
      "source": [
        "%%html\n",
        "<!DOCTYPE html>\n",
        "<html>\n",
        "   <head>\n",
        "      <script type = \"text/javascript\" src = \"https://d3js.org/d3.v4.min.js\"></script>\n",
        "   </head>\n",
        "\n",
        "   <body>\n",
        "      <h3>Mrunal Shinde</h3>\n",
        "      <script>\n",
        "         d3.selectAll(\"h3\").transition().style(\"color\",\"green\").duration(5000);\n",
        "      </script>\n",
        "   </body>\n",
        "</html>"
      ],
      "metadata": {
        "colab": {
          "base_uri": "https://localhost:8080/",
          "height": 58
        },
        "id": "7SFGdpx1b24i",
        "outputId": "576347ef-1352-494a-fda0-0ba1b4dde2e8"
      },
      "execution_count": null,
      "outputs": [
        {
          "output_type": "display_data",
          "data": {
            "text/plain": [
              "<IPython.core.display.HTML object>"
            ],
            "text/html": [
              "<!DOCTYPE html>\n",
              "<html>\n",
              "   <head>\n",
              "      <script type = \"text/javascript\" src = \"https://d3js.org/d3.v4.min.js\"></script>\n",
              "   </head>\n",
              "\n",
              "   <body>\n",
              "      <h3>Mrunal Shinde</h3>\n",
              "      <script>\n",
              "         d3.selectAll(\"h3\").transition().style(\"color\",\"green\").duration(5000);\n",
              "      </script>\n",
              "   </body>\n",
              "</html>\n"
            ]
          },
          "metadata": {}
        }
      ]
    },
    {
      "cell_type": "markdown",
      "source": [
        "**delay()**\n",
        "\n",
        "The delay() method allows a transition to take place after a certain period of time."
      ],
      "metadata": {
        "id": "RryB2osaufPi"
      }
    },
    {
      "cell_type": "code",
      "source": [
        "%%html\n",
        "<!DOCTYPE html>\n",
        "<html>\n",
        "   <head>\n",
        "      <script type = \"text/javascript\" src = \"https://d3js.org/d3.v4.min.js\"></script>\n",
        "   </head>\n",
        "\n",
        "   <body>\n",
        "      <h3> Mrunal Shinde </h3>\n",
        "      <script>\n",
        "         d3.selectAll(\"h3\").transition()\n",
        "            .style(\"font-size\",\"28px\").delay(2000).duration(2000);\n",
        "      </script>\n",
        "   </body>\n",
        "</html>"
      ],
      "metadata": {
        "colab": {
          "base_uri": "https://localhost:8080/",
          "height": 84
        },
        "id": "LGij_x9Vb3GL",
        "outputId": "8f735598-120e-477e-efdd-9bb390f853c9"
      },
      "execution_count": null,
      "outputs": [
        {
          "output_type": "display_data",
          "data": {
            "text/plain": [
              "<IPython.core.display.HTML object>"
            ],
            "text/html": [
              "<!DOCTYPE html>\n",
              "<html>\n",
              "   <head>\n",
              "      <script type = \"text/javascript\" src = \"https://d3js.org/d3.v4.min.js\"></script>\n",
              "   </head>\n",
              "\n",
              "   <body>\n",
              "      <h3> Mrunal Shinde </h3>\n",
              "      <script>\n",
              "         d3.selectAll(\"h3\").transition()\n",
              "            .style(\"font-size\",\"28px\").delay(2000).duration(2000);\n",
              "      </script>\n",
              "   </body>\n",
              "</html>\n"
            ]
          },
          "metadata": {}
        }
      ]
    },
    {
      "cell_type": "markdown",
      "source": [
        "## **Conclusion:** Successfully set Up a D3.js Environment, selected Elements in D3 adn modified them."
      ],
      "metadata": {
        "id": "Iv_fnwgJnEk3"
      }
    }
  ]
}